{
 "cells": [
  {
   "cell_type": "markdown",
   "metadata": {},
   "source": [
    "<p style=\"text-align:center\">\n",
    "    <a href=\"https://skills.network/?utm_medium=Exinfluencer&utm_source=Exinfluencer&utm_content=000026UJ&utm_term=10006555&utm_id=NA-SkillsNetwork-Channel-SkillsNetworkCoursesIBMDeveloperSkillsNetworkML0101ENSkillsNetwork20718538-2022-01-01\" target=\"_blank\">\n",
    "    <img src=\"https://cf-courses-data.s3.us.cloud-object-storage.appdomain.cloud/assets/logos/SN_web_lightmode.png\" width=\"300\" alt=\"Skills Network Logo\">\n",
    "    </a>\n",
    "</p>\n",
    "\n",
    "<h1 align=\"center\"><font size=\"5\">Final Project: House Sales in King County, USA </font></h1>\n"
   ]
  },
  {
   "cell_type": "markdown",
   "metadata": {},
   "source": [
    "<h2>Table of Contents</h2>\n",
    "<div class=\"alert alert-block alert-info\" style=\"margin-top: 20px\">\n",
    "    <ul>\n",
    "    <li><a href=\"#Instructions\">Instructions</a></li>\n",
    "    <li><a href=\"#About-the-Dataset\">About the Dataset</a></li>\n",
    "    <li><a href=\"#Module-1:-Importing-Data-Sets\">Module 1: Importing Data </a></li>\n",
    "    <li><a href=\"#Module-2:-Data-Wrangling\">Module 2: Data Wrangling</a> </li>\n",
    "    <li><a href=\"#Module-3:-Exploratory-Data-Analysis\">Module 3: Exploratory Data Analysis</a></li>\n",
    "    <li><a href=\"#Module-4:-Model-Development\">Module 4: Model Development</a></li>\n",
    "    <li><a href=\"#Module-5:-Model-Evaluation-and-Refinement\">Module 5: Model Evaluation and Refinement</a></li>\n",
    "</a></li>\n",
    "</div>\n",
    "<p>Estimated Time Needed: <strong>75 min</strong></p>\n",
    "</div>\n",
    "\n",
    "<hr>\n"
   ]
  },
  {
   "cell_type": "markdown",
   "metadata": {},
   "source": [
    "# Instructions\n"
   ]
  },
  {
   "cell_type": "markdown",
   "metadata": {},
   "source": [
    "In this assignment, you are a Data Analyst working at a Real Estate Investment Trust. The Trust would like to start investing in Residential real estate. You are tasked with determining the market price of a house given a set of features. You will analyze and predict housing prices using attributes or features such as square footage, number of bedrooms, number of floors, and so on. This is a template notebook; your job is to complete the ten questions. Some hints to the questions are given.\n",
    "\n",
    "As you are completing this notebook, take and save the **screenshots** of the final outputs of your solutions (e.g., final charts, tables, calculation results etc.). They will need to be shared in the following Peer Review section of the Final Project module.\n"
   ]
  },
  {
   "cell_type": "markdown",
   "metadata": {},
   "source": [
    "# About the Dataset\n",
    "\n",
    "This dataset contains house sale prices for King County, which includes Seattle. It includes homes sold between May 2014 and May 2015. It was taken from [here](https://www.kaggle.com/harlfoxem/housesalesprediction?utm_medium=Exinfluencer&utm_source=Exinfluencer&utm_content=000026UJ&utm_term=10006555&utm_id=NA-SkillsNetwork-wwwcourseraorg-SkillsNetworkCoursesIBMDeveloperSkillsNetworkDA0101ENSkillsNetwork20235326-2022-01-01). It was also slightly modified for the purposes of this course. \n"
   ]
  },
  {
   "cell_type": "markdown",
   "metadata": {},
   "source": [
    "| Variable      | Description                                                                                                 |\n",
    "| ------------- | ----------------------------------------------------------------------------------------------------------- |\n",
    "| id            | A notation for a house                                                                                      |\n",
    "| date          | Date house was sold                                                                                         |\n",
    "| price         | Price is prediction target                                                                                  |\n",
    "| bedrooms      | Number of bedrooms                                                                                          |\n",
    "| bathrooms     | Number of bathrooms                                                                                         |\n",
    "| sqft_living   | Square footage of the home                                                                                  |\n",
    "| sqft_lot      | Square footage of the lot                                                                                   |\n",
    "| floors        | Total floors (levels) in house                                                                              |\n",
    "| waterfront    | House which has a view to a waterfront                                                                      |\n",
    "| view          | Has been viewed                                                                                             |\n",
    "| condition     | How good the condition is overall                                                                           |\n",
    "| grade         | overall grade given to the housing unit, based on King County grading system                                |\n",
    "| sqft_above    | Square footage of house apart from basement                                                                 |\n",
    "| sqft_basement | Square footage of the basement                                                                              |\n",
    "| yr_built      | Built Year                                                                                                  |\n",
    "| yr_renovated  | Year when house was renovated                                                                               |\n",
    "| zipcode       | Zip code                                                                                                    |\n",
    "| lat           | Latitude coordinate                                                                                         |\n",
    "| long          | Longitude coordinate                                                                                        |\n",
    "| sqft_living15 | Living room area in 2015(implies-- some renovations) This might or might not have affected the lotsize area |\n",
    "| sqft_lot15    | LotSize area in 2015(implies-- some renovations)                                                            |\n"
   ]
  },
  {
   "cell_type": "markdown",
   "metadata": {},
   "source": [
    "## **Import the required libraries**\n"
   ]
  },
  {
   "cell_type": "code",
   "execution_count": 1,
   "metadata": {},
   "outputs": [],
   "source": [
    "# All Libraries required for this lab are listed below. The libraries pre-installed on Skills Network Labs are commented.\n",
    "# !mamba install -qy pandas==1.3.4 numpy==1.21.4 seaborn==0.9.0 matplotlib==3.5.0 scikit-learn==0.20.1\n",
    "# Note: If your environment doesn't support \"!mamba install\", use \"!pip install\""
   ]
  },
  {
   "cell_type": "code",
   "execution_count": 2,
   "metadata": {},
   "outputs": [],
   "source": [
    "# Surpress warnings:\n",
    "def warn(*args, **kwargs):\n",
    "    pass\n",
    "import warnings\n",
    "warnings.warn = warn"
   ]
  },
  {
   "cell_type": "code",
   "execution_count": 7,
   "metadata": {},
   "outputs": [
    {
     "name": "stdout",
     "output_type": "stream",
     "text": [
      "Collecting scikit-learn"
     ]
    },
    {
     "name": "stderr",
     "output_type": "stream",
     "text": [
      "\n",
      "[notice] A new release of pip is available: 23.0 -> 23.3.2\n",
      "[notice] To update, run: python.exe -m pip install --upgrade pip\n"
     ]
    },
    {
     "name": "stdout",
     "output_type": "stream",
     "text": [
      "\n",
      "  Downloading scikit_learn-1.4.0-1-cp311-cp311-win_amd64.whl (10.6 MB)\n",
      "     ---------------------------------------- 0.0/10.6 MB ? eta -:--:--\n",
      "     - -------------------------------------- 0.4/10.6 MB 8.3 MB/s eta 0:00:02\n",
      "     --- ------------------------------------ 0.8/10.6 MB 8.6 MB/s eta 0:00:02\n",
      "     ---- ----------------------------------- 1.2/10.6 MB 9.6 MB/s eta 0:00:01\n",
      "     ------ --------------------------------- 1.6/10.6 MB 8.7 MB/s eta 0:00:02\n",
      "     ------- -------------------------------- 1.9/10.6 MB 8.0 MB/s eta 0:00:02\n",
      "     --------- ------------------------------ 2.4/10.6 MB 8.5 MB/s eta 0:00:01\n",
      "     ----------- ---------------------------- 3.1/10.6 MB 9.3 MB/s eta 0:00:01\n",
      "     ------------- -------------------------- 3.6/10.6 MB 9.5 MB/s eta 0:00:01\n",
      "     --------------- ------------------------ 4.0/10.6 MB 9.4 MB/s eta 0:00:01\n",
      "     ----------------- ---------------------- 4.5/10.6 MB 9.6 MB/s eta 0:00:01\n",
      "     ------------------ --------------------- 5.0/10.6 MB 9.6 MB/s eta 0:00:01\n",
      "     -------------------- ------------------- 5.5/10.6 MB 9.8 MB/s eta 0:00:01\n",
      "     --------------------- ------------------ 5.8/10.6 MB 9.5 MB/s eta 0:00:01\n",
      "     ---------------------- ----------------- 5.9/10.6 MB 9.5 MB/s eta 0:00:01\n",
      "     ----------------------- ---------------- 6.2/10.6 MB 8.8 MB/s eta 0:00:01\n",
      "     ------------------------ --------------- 6.6/10.6 MB 9.0 MB/s eta 0:00:01\n",
      "     ------------------------- -------------- 6.8/10.6 MB 8.7 MB/s eta 0:00:01\n",
      "     -------------------------- ------------- 7.1/10.6 MB 8.7 MB/s eta 0:00:01\n",
      "     --------------------------- ------------ 7.4/10.6 MB 8.5 MB/s eta 0:00:01\n",
      "     ---------------------------- ----------- 7.6/10.6 MB 8.2 MB/s eta 0:00:01\n",
      "     ----------------------------- ---------- 7.8/10.6 MB 8.2 MB/s eta 0:00:01\n",
      "     ------------------------------ --------- 8.0/10.6 MB 8.0 MB/s eta 0:00:01\n",
      "     ------------------------------ --------- 8.2/10.6 MB 8.1 MB/s eta 0:00:01\n",
      "     ------------------------------- -------- 8.4/10.6 MB 7.6 MB/s eta 0:00:01\n",
      "     ------------------------------- -------- 8.4/10.6 MB 7.5 MB/s eta 0:00:01\n",
      "     -------------------------------- ------- 8.7/10.6 MB 7.4 MB/s eta 0:00:01\n",
      "     --------------------------------- ------ 8.8/10.6 MB 7.2 MB/s eta 0:00:01\n",
      "     ---------------------------------- ----- 9.0/10.6 MB 7.1 MB/s eta 0:00:01\n",
      "     ---------------------------------- ----- 9.2/10.6 MB 7.0 MB/s eta 0:00:01\n",
      "     ----------------------------------- ---- 9.5/10.6 MB 7.0 MB/s eta 0:00:01\n",
      "     ------------------------------------ --- 9.8/10.6 MB 7.0 MB/s eta 0:00:01\n",
      "     -------------------------------------- - 10.1/10.6 MB 7.0 MB/s eta 0:00:01\n",
      "     ---------------------------------------  10.4/10.6 MB 7.0 MB/s eta 0:00:01\n",
      "     ---------------------------------------  10.6/10.6 MB 6.9 MB/s eta 0:00:01\n",
      "     ---------------------------------------- 10.6/10.6 MB 6.7 MB/s eta 0:00:00\n",
      "Requirement already satisfied: numpy<2.0,>=1.19.5 in c:\\users\\sarah goldman\\appdata\\local\\programs\\python\\python311\\lib\\site-packages (from scikit-learn) (1.26.1)\n",
      "Collecting scipy>=1.6.0\n",
      "  Downloading scipy-1.12.0-cp311-cp311-win_amd64.whl (46.2 MB)\n",
      "     ---------------------------------------- 0.0/46.2 MB ? eta -:--:--\n",
      "     ---------------------------------------- 0.3/46.2 MB 9.9 MB/s eta 0:00:05\n",
      "      --------------------------------------- 0.7/46.2 MB 8.7 MB/s eta 0:00:06\n",
      "      --------------------------------------- 1.1/46.2 MB 8.7 MB/s eta 0:00:06\n",
      "     - -------------------------------------- 1.5/46.2 MB 8.4 MB/s eta 0:00:06\n",
      "     - -------------------------------------- 1.7/46.2 MB 8.5 MB/s eta 0:00:06\n",
      "     - -------------------------------------- 2.2/46.2 MB 8.6 MB/s eta 0:00:06\n",
      "     -- ------------------------------------- 2.5/46.2 MB 8.3 MB/s eta 0:00:06\n",
      "     -- ------------------------------------- 2.8/46.2 MB 8.2 MB/s eta 0:00:06\n",
      "     -- ------------------------------------- 3.3/46.2 MB 8.4 MB/s eta 0:00:06\n",
      "     --- ------------------------------------ 3.6/46.2 MB 8.6 MB/s eta 0:00:05\n",
      "     --- ------------------------------------ 4.0/46.2 MB 8.5 MB/s eta 0:00:05\n",
      "     --- ------------------------------------ 4.3/46.2 MB 8.6 MB/s eta 0:00:05\n",
      "     ---- ----------------------------------- 4.7/46.2 MB 8.6 MB/s eta 0:00:05\n",
      "     ---- ----------------------------------- 5.0/46.2 MB 8.4 MB/s eta 0:00:05\n",
      "     ---- ----------------------------------- 5.4/46.2 MB 8.4 MB/s eta 0:00:05\n",
      "     ----- ---------------------------------- 5.8/46.2 MB 8.4 MB/s eta 0:00:05\n",
      "     ----- ---------------------------------- 6.1/46.2 MB 8.4 MB/s eta 0:00:05\n",
      "     ----- ---------------------------------- 6.5/46.2 MB 8.3 MB/s eta 0:00:05\n",
      "     ------ --------------------------------- 6.9/46.2 MB 8.4 MB/s eta 0:00:05\n",
      "     ------ --------------------------------- 7.4/46.2 MB 8.5 MB/s eta 0:00:05\n",
      "     ------ --------------------------------- 7.7/46.2 MB 8.4 MB/s eta 0:00:05\n",
      "     ------ --------------------------------- 8.0/46.2 MB 8.3 MB/s eta 0:00:05\n",
      "     ------- -------------------------------- 8.1/46.2 MB 8.2 MB/s eta 0:00:05\n",
      "     ------- -------------------------------- 8.2/46.2 MB 7.8 MB/s eta 0:00:05\n",
      "     ------- -------------------------------- 8.4/46.2 MB 7.6 MB/s eta 0:00:05\n",
      "     ------- -------------------------------- 8.5/46.2 MB 7.4 MB/s eta 0:00:06\n",
      "     ------- -------------------------------- 8.6/46.2 MB 7.2 MB/s eta 0:00:06\n",
      "     ------- -------------------------------- 8.6/46.2 MB 7.1 MB/s eta 0:00:06\n",
      "     ------- -------------------------------- 8.8/46.2 MB 7.0 MB/s eta 0:00:06\n",
      "     ------- -------------------------------- 8.9/46.2 MB 6.8 MB/s eta 0:00:06\n",
      "     ------- -------------------------------- 9.2/46.2 MB 6.7 MB/s eta 0:00:06\n",
      "     -------- ------------------------------- 9.5/46.2 MB 6.7 MB/s eta 0:00:06\n",
      "     -------- ------------------------------- 9.7/46.2 MB 6.7 MB/s eta 0:00:06\n",
      "     -------- ------------------------------- 10.0/46.2 MB 6.7 MB/s eta 0:00:06\n",
      "     -------- ------------------------------- 10.4/46.2 MB 6.7 MB/s eta 0:00:06\n",
      "     --------- ------------------------------ 10.6/46.2 MB 6.5 MB/s eta 0:00:06\n",
      "     --------- ------------------------------ 10.9/46.2 MB 6.5 MB/s eta 0:00:06\n",
      "     --------- ------------------------------ 11.2/46.2 MB 6.5 MB/s eta 0:00:06\n",
      "     --------- ------------------------------ 11.5/46.2 MB 6.4 MB/s eta 0:00:06\n",
      "     ---------- ----------------------------- 11.9/46.2 MB 6.5 MB/s eta 0:00:06\n",
      "     ---------- ----------------------------- 12.2/46.2 MB 6.4 MB/s eta 0:00:06\n",
      "     ---------- ----------------------------- 12.5/46.2 MB 6.4 MB/s eta 0:00:06\n",
      "     ----------- ---------------------------- 12.9/46.2 MB 6.4 MB/s eta 0:00:06\n",
      "     ----------- ---------------------------- 13.3/46.2 MB 6.4 MB/s eta 0:00:06\n",
      "     ----------- ---------------------------- 13.7/46.2 MB 6.4 MB/s eta 0:00:06\n",
      "     ------------ --------------------------- 13.9/46.2 MB 6.2 MB/s eta 0:00:06\n",
      "     ------------ --------------------------- 14.3/46.2 MB 6.2 MB/s eta 0:00:06\n",
      "     ------------ --------------------------- 14.6/46.2 MB 6.2 MB/s eta 0:00:06\n",
      "     ------------ --------------------------- 15.0/46.2 MB 6.2 MB/s eta 0:00:06\n",
      "     ------------- -------------------------- 15.3/46.2 MB 6.2 MB/s eta 0:00:05\n",
      "     ------------- -------------------------- 15.7/46.2 MB 6.2 MB/s eta 0:00:05\n",
      "     ------------- -------------------------- 16.1/46.2 MB 6.2 MB/s eta 0:00:05\n",
      "     -------------- ------------------------- 16.5/46.2 MB 6.2 MB/s eta 0:00:05\n",
      "     -------------- ------------------------- 16.9/46.2 MB 6.2 MB/s eta 0:00:05\n",
      "     -------------- ------------------------- 17.2/46.2 MB 6.2 MB/s eta 0:00:05\n",
      "     --------------- ------------------------ 17.6/46.2 MB 6.2 MB/s eta 0:00:05\n",
      "     --------------- ------------------------ 18.0/46.2 MB 6.2 MB/s eta 0:00:05\n",
      "     --------------- ------------------------ 18.3/46.2 MB 6.2 MB/s eta 0:00:05\n",
      "     ---------------- ----------------------- 18.7/46.2 MB 6.8 MB/s eta 0:00:05\n",
      "     ---------------- ----------------------- 19.1/46.2 MB 7.3 MB/s eta 0:00:04\n",
      "     ---------------- ----------------------- 19.5/46.2 MB 7.5 MB/s eta 0:00:04\n",
      "     ----------------- ---------------------- 19.9/46.2 MB 7.5 MB/s eta 0:00:04\n",
      "     ----------------- ---------------------- 20.2/46.2 MB 7.6 MB/s eta 0:00:04\n",
      "     ----------------- ---------------------- 20.6/46.2 MB 7.6 MB/s eta 0:00:04\n",
      "     ------------------ --------------------- 21.0/46.2 MB 7.9 MB/s eta 0:00:04\n",
      "     ------------------ --------------------- 21.4/46.2 MB 7.7 MB/s eta 0:00:04\n",
      "     ------------------ --------------------- 21.8/46.2 MB 7.9 MB/s eta 0:00:04\n",
      "     ------------------- -------------------- 22.2/46.2 MB 7.9 MB/s eta 0:00:04\n",
      "     ------------------- -------------------- 22.6/46.2 MB 8.0 MB/s eta 0:00:03\n",
      "     ------------------- -------------------- 23.0/46.2 MB 8.1 MB/s eta 0:00:03\n",
      "     -------------------- ------------------- 23.4/46.2 MB 8.0 MB/s eta 0:00:03\n",
      "     -------------------- ------------------- 23.6/46.2 MB 7.9 MB/s eta 0:00:03\n",
      "     -------------------- ------------------- 23.9/46.2 MB 7.9 MB/s eta 0:00:03\n",
      "     --------------------- ------------------ 24.4/46.2 MB 8.0 MB/s eta 0:00:03\n",
      "     --------------------- ------------------ 24.6/46.2 MB 7.9 MB/s eta 0:00:03\n",
      "     --------------------- ------------------ 24.9/46.2 MB 7.9 MB/s eta 0:00:03\n",
      "     --------------------- ------------------ 25.1/46.2 MB 7.8 MB/s eta 0:00:03\n",
      "     --------------------- ------------------ 25.2/46.2 MB 7.6 MB/s eta 0:00:03\n",
      "     --------------------- ------------------ 25.3/46.2 MB 7.5 MB/s eta 0:00:03\n",
      "     ---------------------- ----------------- 25.5/46.2 MB 7.4 MB/s eta 0:00:03\n",
      "     ---------------------- ----------------- 25.8/46.2 MB 7.3 MB/s eta 0:00:03\n",
      "     ---------------------- ----------------- 26.0/46.2 MB 7.2 MB/s eta 0:00:03\n",
      "     ---------------------- ----------------- 26.3/46.2 MB 7.1 MB/s eta 0:00:03\n",
      "     ---------------------- ----------------- 26.5/46.2 MB 7.0 MB/s eta 0:00:03\n",
      "     ----------------------- ---------------- 26.8/46.2 MB 7.0 MB/s eta 0:00:03\n",
      "     ----------------------- ---------------- 27.2/46.2 MB 7.0 MB/s eta 0:00:03\n",
      "     ----------------------- ---------------- 27.5/46.2 MB 7.0 MB/s eta 0:00:03\n",
      "     ------------------------ --------------- 27.9/46.2 MB 6.9 MB/s eta 0:00:03\n",
      "     ------------------------ --------------- 28.1/46.2 MB 6.8 MB/s eta 0:00:03\n",
      "     ------------------------ --------------- 28.5/46.2 MB 6.8 MB/s eta 0:00:03\n",
      "     ------------------------ --------------- 28.7/46.2 MB 6.7 MB/s eta 0:00:03\n",
      "     ------------------------- -------------- 29.0/46.2 MB 6.7 MB/s eta 0:00:03\n",
      "     ------------------------- -------------- 29.3/46.2 MB 6.6 MB/s eta 0:00:03\n",
      "     ------------------------- -------------- 29.5/46.2 MB 6.5 MB/s eta 0:00:03\n",
      "     ------------------------- -------------- 29.6/46.2 MB 6.4 MB/s eta 0:00:03\n",
      "     ------------------------- -------------- 29.7/46.2 MB 6.2 MB/s eta 0:00:03\n",
      "     ------------------------- -------------- 29.8/46.2 MB 6.2 MB/s eta 0:00:03\n",
      "     -------------------------- ------------- 30.1/46.2 MB 6.1 MB/s eta 0:00:03\n",
      "     -------------------------- ------------- 30.4/46.2 MB 6.1 MB/s eta 0:00:03\n",
      "     -------------------------- ------------- 30.6/46.2 MB 6.0 MB/s eta 0:00:03\n",
      "     -------------------------- ------------- 31.0/46.2 MB 6.0 MB/s eta 0:00:03\n",
      "     --------------------------- ------------ 31.3/46.2 MB 5.9 MB/s eta 0:00:03\n",
      "     --------------------------- ------------ 31.7/46.2 MB 6.0 MB/s eta 0:00:03\n",
      "     --------------------------- ------------ 32.0/46.2 MB 5.8 MB/s eta 0:00:03\n",
      "     ---------------------------- ----------- 32.3/46.2 MB 6.0 MB/s eta 0:00:03\n",
      "     ---------------------------- ----------- 32.5/46.2 MB 5.8 MB/s eta 0:00:03\n",
      "     ---------------------------- ----------- 32.9/46.2 MB 5.8 MB/s eta 0:00:03\n",
      "     ---------------------------- ----------- 33.3/46.2 MB 5.8 MB/s eta 0:00:03\n",
      "     ----------------------------- ---------- 33.7/46.2 MB 5.8 MB/s eta 0:00:03\n",
      "     ----------------------------- ---------- 34.1/46.2 MB 5.9 MB/s eta 0:00:03\n",
      "     ----------------------------- ---------- 34.5/46.2 MB 5.9 MB/s eta 0:00:02\n",
      "     ------------------------------ --------- 34.9/46.2 MB 6.0 MB/s eta 0:00:02\n",
      "     ------------------------------ --------- 35.3/46.2 MB 6.0 MB/s eta 0:00:02\n",
      "     ------------------------------ --------- 35.7/46.2 MB 6.3 MB/s eta 0:00:02\n",
      "     ------------------------------- -------- 36.0/46.2 MB 6.4 MB/s eta 0:00:02\n",
      "     ------------------------------- -------- 36.4/46.2 MB 6.4 MB/s eta 0:00:02\n",
      "     ------------------------------- -------- 36.7/46.2 MB 6.5 MB/s eta 0:00:02\n",
      "     -------------------------------- ------- 37.0/46.2 MB 6.5 MB/s eta 0:00:02\n",
      "     -------------------------------- ------- 37.3/46.2 MB 6.5 MB/s eta 0:00:02\n",
      "     -------------------------------- ------- 37.6/46.2 MB 6.5 MB/s eta 0:00:02\n",
      "     -------------------------------- ------- 37.9/46.2 MB 6.4 MB/s eta 0:00:02\n",
      "     --------------------------------- ------ 38.3/46.2 MB 6.4 MB/s eta 0:00:02\n",
      "     --------------------------------- ------ 38.7/46.2 MB 6.4 MB/s eta 0:00:02\n",
      "     --------------------------------- ------ 39.1/46.2 MB 6.6 MB/s eta 0:00:02\n",
      "     ---------------------------------- ----- 39.4/46.2 MB 6.7 MB/s eta 0:00:02\n",
      "     ---------------------------------- ----- 39.9/46.2 MB 7.0 MB/s eta 0:00:01\n",
      "     ---------------------------------- ----- 40.2/46.2 MB 7.4 MB/s eta 0:00:01\n",
      "     ----------------------------------- ---- 40.6/46.2 MB 7.4 MB/s eta 0:00:01\n",
      "     ----------------------------------- ---- 41.0/46.2 MB 7.4 MB/s eta 0:00:01\n",
      "     ----------------------------------- ---- 41.4/46.2 MB 7.6 MB/s eta 0:00:01\n",
      "     ------------------------------------ --- 41.9/46.2 MB 7.5 MB/s eta 0:00:01\n",
      "     ------------------------------------ --- 42.3/46.2 MB 7.7 MB/s eta 0:00:01\n",
      "     ------------------------------------ --- 42.6/46.2 MB 7.7 MB/s eta 0:00:01\n",
      "     ------------------------------------- -- 43.0/46.2 MB 7.8 MB/s eta 0:00:01\n",
      "     ------------------------------------- -- 43.1/46.2 MB 7.7 MB/s eta 0:00:01\n",
      "     ------------------------------------- -- 43.3/46.2 MB 7.4 MB/s eta 0:00:01\n",
      "     ------------------------------------- -- 43.4/46.2 MB 7.3 MB/s eta 0:00:01\n",
      "     ------------------------------------- -- 43.6/46.2 MB 7.1 MB/s eta 0:00:01\n",
      "     ------------------------------------- -- 43.7/46.2 MB 7.0 MB/s eta 0:00:01\n",
      "     ------------------------------------- -- 43.8/46.2 MB 6.9 MB/s eta 0:00:01\n",
      "     -------------------------------------- - 44.0/46.2 MB 6.7 MB/s eta 0:00:01\n",
      "     -------------------------------------- - 44.2/46.2 MB 6.6 MB/s eta 0:00:01\n",
      "     -------------------------------------- - 44.5/46.2 MB 6.5 MB/s eta 0:00:01\n",
      "     -------------------------------------- - 44.7/46.2 MB 6.5 MB/s eta 0:00:01\n",
      "     -------------------------------------- - 44.9/46.2 MB 6.4 MB/s eta 0:00:01\n",
      "     ---------------------------------------  45.0/46.2 MB 6.2 MB/s eta 0:00:01\n",
      "     ---------------------------------------  45.3/46.2 MB 6.2 MB/s eta 0:00:01\n",
      "     ---------------------------------------  45.5/46.2 MB 6.1 MB/s eta 0:00:01\n",
      "     ---------------------------------------  45.7/46.2 MB 6.1 MB/s eta 0:00:01\n",
      "     ---------------------------------------  45.8/46.2 MB 5.9 MB/s eta 0:00:01\n",
      "     ---------------------------------------  46.0/46.2 MB 5.8 MB/s eta 0:00:01\n",
      "     ---------------------------------------  46.0/46.2 MB 5.8 MB/s eta 0:00:01\n",
      "     ---------------------------------------  46.0/46.2 MB 5.5 MB/s eta 0:00:01\n",
      "     ---------------------------------------  46.0/46.2 MB 5.5 MB/s eta 0:00:01\n",
      "     ---------------------------------------  46.1/46.2 MB 5.3 MB/s eta 0:00:01\n",
      "     ---------------------------------------  46.1/46.2 MB 5.2 MB/s eta 0:00:01\n",
      "     ---------------------------------------  46.1/46.2 MB 5.1 MB/s eta 0:00:01\n",
      "     ---------------------------------------  46.1/46.2 MB 4.9 MB/s eta 0:00:01\n",
      "     ---------------------------------------  46.2/46.2 MB 4.8 MB/s eta 0:00:01\n",
      "     ---------------------------------------  46.2/46.2 MB 4.8 MB/s eta 0:00:01\n",
      "     ---------------------------------------  46.2/46.2 MB 4.8 MB/s eta 0:00:01\n",
      "     ---------------------------------------- 46.2/46.2 MB 4.6 MB/s eta 0:00:00\n",
      "Collecting joblib>=1.2.0\n",
      "  Downloading joblib-1.3.2-py3-none-any.whl (302 kB)\n",
      "     ---------------------------------------- 0.0/302.2 kB ? eta -:--:--\n",
      "     --------------- ---------------------- 122.9/302.2 kB 3.5 MB/s eta 0:00:01\n",
      "     -------------------------------------- 302.2/302.2 kB 3.7 MB/s eta 0:00:00\n",
      "Collecting threadpoolctl>=2.0.0\n",
      "  Downloading threadpoolctl-3.2.0-py3-none-any.whl (15 kB)\n",
      "Installing collected packages: threadpoolctl, scipy, joblib, scikit-learn\n",
      "Successfully installed joblib-1.3.2 scikit-learn-1.4.0 scipy-1.12.0 threadpoolctl-3.2.0\n"
     ]
    }
   ],
   "source": [
    "!pip install -U scikit-learn"
   ]
  },
  {
   "cell_type": "code",
   "execution_count": 8,
   "metadata": {},
   "outputs": [],
   "source": [
    "import pandas as pd\n",
    "import matplotlib.pyplot as plt\n",
    "import numpy as np\n",
    "import seaborn as sns\n",
    "from sklearn.pipeline import Pipeline\n",
    "from sklearn.preprocessing import StandardScaler,PolynomialFeatures\n",
    "from sklearn.linear_model import LinearRegression\n",
    "%matplotlib inline"
   ]
  },
  {
   "cell_type": "markdown",
   "metadata": {},
   "source": [
    "# Module 1: Importing Data Sets\n"
   ]
  },
  {
   "cell_type": "markdown",
   "metadata": {},
   "source": [
    "Download the dataset by running the cell below.\n"
   ]
  },
  {
   "cell_type": "code",
   "execution_count": 15,
   "metadata": {},
   "outputs": [
    {
     "ename": "ModuleNotFoundError",
     "evalue": "No module named 'piplite'",
     "output_type": "error",
     "traceback": [
      "\u001b[1;31m---------------------------------------------------------------------------\u001b[0m",
      "\u001b[1;31mModuleNotFoundError\u001b[0m                       Traceback (most recent call last)",
      "Cell \u001b[1;32mIn[15], line 1\u001b[0m\n\u001b[1;32m----> 1\u001b[0m \u001b[38;5;28;01mimport\u001b[39;00m \u001b[38;5;21;01mpiplite\u001b[39;00m\n\u001b[0;32m      2\u001b[0m \u001b[38;5;28;01mawait\u001b[39;00m piplite\u001b[38;5;241m.\u001b[39minstall(\u001b[38;5;124m'\u001b[39m\u001b[38;5;124mseaborn\u001b[39m\u001b[38;5;124m'\u001b[39m)\n",
      "\u001b[1;31mModuleNotFoundError\u001b[0m: No module named 'piplite'"
     ]
    }
   ],
   "source": [
    "import piplite\n",
    "await piplite.install('seaborn')"
   ]
  },
  {
   "cell_type": "code",
   "execution_count": 10,
   "metadata": {},
   "outputs": [
    {
     "ename": "ModuleNotFoundError",
     "evalue": "No module named 'pyodide'",
     "output_type": "error",
     "traceback": [
      "\u001b[1;31m---------------------------------------------------------------------------\u001b[0m",
      "\u001b[1;31mModuleNotFoundError\u001b[0m                       Traceback (most recent call last)",
      "Cell \u001b[1;32mIn[10], line 1\u001b[0m\n\u001b[1;32m----> 1\u001b[0m \u001b[38;5;28;01mfrom\u001b[39;00m \u001b[38;5;21;01mpyodide\u001b[39;00m\u001b[38;5;21;01m.\u001b[39;00m\u001b[38;5;21;01mhttp\u001b[39;00m \u001b[38;5;28;01mimport\u001b[39;00m pyfetch\n\u001b[0;32m      3\u001b[0m \u001b[38;5;28;01masync\u001b[39;00m \u001b[38;5;28;01mdef\u001b[39;00m \u001b[38;5;21mdownload\u001b[39m(url, filename):\n\u001b[0;32m      4\u001b[0m     response \u001b[38;5;241m=\u001b[39m \u001b[38;5;28;01mawait\u001b[39;00m pyfetch(url)\n",
      "\u001b[1;31mModuleNotFoundError\u001b[0m: No module named 'pyodide'"
     ]
    }
   ],
   "source": [
    "from pyodide.http import pyfetch\n",
    "\n",
    "async def download(url, filename):\n",
    "    response = await pyfetch(url)\n",
    "    if response.status == 200:\n",
    "        with open(filename, \"wb\") as f:\n",
    "            f.write(await response.bytes())"
   ]
  },
  {
   "cell_type": "code",
   "execution_count": null,
   "metadata": {},
   "outputs": [],
   "source": [
    "filepath='https://cf-courses-data.s3.us.cloud-object-storage.appdomain.cloud/IBMDeveloperSkillsNetwork-DA0101EN-SkillsNetwork/labs/FinalModule_Coursera/data/kc_house_data_NaN.csv'"
   ]
  },
  {
   "cell_type": "code",
   "execution_count": null,
   "metadata": {},
   "outputs": [],
   "source": [
    "await download(filepath, \"housing.csv\")\n",
    "file_name=\"housing.csv\""
   ]
  },
  {
   "cell_type": "markdown",
   "metadata": {},
   "source": [
    "Load the csv:\n"
   ]
  },
  {
   "cell_type": "code",
   "execution_count": null,
   "metadata": {},
   "outputs": [],
   "source": [
    "df = pd.read_csv(file_name)"
   ]
  },
  {
   "cell_type": "markdown",
   "metadata": {},
   "source": [
    "> Note: This version of the lab is working on JupyterLite, which requires the dataset to be downloaded to the interface.While working on the downloaded version of this notebook on their local machines(Jupyter Anaconda), the learners can simply **skip the steps above,** and simply use the URL directly in the `pandas.read_csv()` function. You can uncomment and run the statements in the cell below.\n"
   ]
  },
  {
   "cell_type": "code",
   "execution_count": null,
   "metadata": {},
   "outputs": [],
   "source": [
    "#filepath='https://cf-courses-data.s3.us.cloud-object-storage.appdomain.cloud/IBMDeveloperSkillsNetwork-DA0101EN-SkillsNetwork/labs/FinalModule_Coursera/data/kc_house_data_NaN.csv'\n",
    "#df = pd.read_csv(filepath, header=None)"
   ]
  },
  {
   "cell_type": "markdown",
   "metadata": {},
   "source": [
    "We use the method <code>head</code> to display the first 5 columns of the dataframe.\n"
   ]
  },
  {
   "cell_type": "code",
   "execution_count": null,
   "metadata": {},
   "outputs": [],
   "source": [
    "df.head()"
   ]
  },
  {
   "cell_type": "markdown",
   "metadata": {},
   "source": [
    "### Question 1\n",
    "\n",
    "Display the data types of each column using the function dtypes. Take a screenshot of your code and output. You will need to submit the screenshot for the final project. \n"
   ]
  },
  {
   "cell_type": "code",
   "execution_count": null,
   "metadata": {},
   "outputs": [],
   "source": [
    "#Enter Your Code, Execute and take the Screenshot"
   ]
  },
  {
   "cell_type": "markdown",
   "metadata": {},
   "source": [
    "We use the method describe to obtain a statistical summary of the dataframe.\n"
   ]
  },
  {
   "cell_type": "code",
   "execution_count": null,
   "metadata": {},
   "outputs": [],
   "source": [
    "df.describe()"
   ]
  },
  {
   "cell_type": "markdown",
   "metadata": {},
   "source": [
    "# Module 2: Data Wrangling\n"
   ]
  },
  {
   "cell_type": "markdown",
   "metadata": {},
   "source": [
    "### Question 2\n",
    "\n",
    "Drop the columns <code>\"id\"</code>  and <code>\"Unnamed: 0\"</code> from axis 1 using the method <code>drop()</code>, then use the method <code>describe()</code> to obtain a statistical summary of the data. Make sure the <code>inplace</code> parameter is set to <code>True</code>. Take a screenshot of your code and output. You will need to submit the screenshot for the final project. \n"
   ]
  },
  {
   "cell_type": "code",
   "execution_count": null,
   "metadata": {},
   "outputs": [],
   "source": [
    "#Enter Your Code, Execute and take the Screenshot"
   ]
  },
  {
   "cell_type": "markdown",
   "metadata": {},
   "source": [
    "We can see we have missing values for the columns <code> bedrooms</code>  and <code> bathrooms </code>\n"
   ]
  },
  {
   "cell_type": "code",
   "execution_count": null,
   "metadata": {},
   "outputs": [],
   "source": [
    "print(\"number of NaN values for the column bedrooms :\", df['bedrooms'].isnull().sum())\n",
    "print(\"number of NaN values for the column bathrooms :\", df['bathrooms'].isnull().sum())\n"
   ]
  },
  {
   "cell_type": "markdown",
   "metadata": {},
   "source": [
    "We can replace the missing values of the column <code>'bedrooms'</code> with the mean of the column  <code>'bedrooms' </code> using the method <code>replace()</code>. Don't forget to set the <code>inplace</code> parameter to <code>True</code>\n"
   ]
  },
  {
   "cell_type": "code",
   "execution_count": null,
   "metadata": {},
   "outputs": [],
   "source": [
    "mean=df['bedrooms'].mean()\n",
    "df['bedrooms'].replace(np.nan,mean, inplace=True)"
   ]
  },
  {
   "cell_type": "markdown",
   "metadata": {},
   "source": [
    "We also replace the missing values of the column <code>'bathrooms'</code> with the mean of the column  <code>'bathrooms' </code> using the method <code>replace()</code>. Don't forget to set the <code> inplace </code>  parameter top <code> True </code>\n"
   ]
  },
  {
   "cell_type": "code",
   "execution_count": null,
   "metadata": {},
   "outputs": [],
   "source": [
    "mean=df['bathrooms'].mean()\n",
    "df['bathrooms'].replace(np.nan,mean, inplace=True)"
   ]
  },
  {
   "cell_type": "code",
   "execution_count": null,
   "metadata": {},
   "outputs": [],
   "source": [
    "print(\"number of NaN values for the column bedrooms :\", df['bedrooms'].isnull().sum())\n",
    "print(\"number of NaN values for the column bathrooms :\", df['bathrooms'].isnull().sum())"
   ]
  },
  {
   "cell_type": "markdown",
   "metadata": {},
   "source": [
    "# Module 3: Exploratory Data Analysis\n"
   ]
  },
  {
   "cell_type": "markdown",
   "metadata": {},
   "source": [
    "### Question 3\n",
    "\n",
    "Use the method <code>value_counts</code> to count the number of houses with unique floor values, use the method <code>.to_frame()</code> to convert it to a data frame. Take a screenshot of your code and output. You will need to submit the screenshot for the final project. \n"
   ]
  },
  {
   "cell_type": "code",
   "execution_count": null,
   "metadata": {},
   "outputs": [],
   "source": [
    "#Enter Your Code, Execute and take the Screenshot"
   ]
  },
  {
   "cell_type": "markdown",
   "metadata": {},
   "source": [
    "### Question 4\n",
    "\n",
    "Use the function <code>boxplot</code> in the seaborn library  to  determine whether houses with a waterfront view or without a waterfront view have more price outliers. Take a screenshot of your code and boxplot. You will need to submit the screenshot for the final project. \n"
   ]
  },
  {
   "cell_type": "code",
   "execution_count": null,
   "metadata": {},
   "outputs": [],
   "source": []
  },
  {
   "cell_type": "markdown",
   "metadata": {},
   "source": [
    "### Question 5\n",
    "\n",
    "Use the function <code>regplot</code>  in the seaborn library  to  determine if the feature <code>sqft_above</code> is negatively or positively correlated with price. Take a screenshot of your code and scatterplot. You will need to submit the screenshot for the final project. \n"
   ]
  },
  {
   "cell_type": "code",
   "execution_count": null,
   "metadata": {},
   "outputs": [],
   "source": [
    "#Enter Your Code, Execute and take the Screenshot"
   ]
  },
  {
   "cell_type": "markdown",
   "metadata": {},
   "source": [
    "We can use the Pandas method <code>corr()</code>  to find the feature other than price that is most correlated with price.\n"
   ]
  },
  {
   "cell_type": "code",
   "execution_count": null,
   "metadata": {},
   "outputs": [],
   "source": [
    "df.corr()['price'].sort_values()"
   ]
  },
  {
   "cell_type": "markdown",
   "metadata": {},
   "source": [
    "# Module 4: Model Development\n"
   ]
  },
  {
   "cell_type": "markdown",
   "metadata": {},
   "source": [
    "We can Fit a linear regression model using the  longitude feature <code>'long'</code> and  caculate the R^2.\n"
   ]
  },
  {
   "cell_type": "code",
   "execution_count": null,
   "metadata": {},
   "outputs": [],
   "source": [
    "X = df[['long']]\n",
    "Y = df['price']\n",
    "lm = LinearRegression()\n",
    "lm.fit(X,Y)\n",
    "lm.score(X, Y)"
   ]
  },
  {
   "cell_type": "markdown",
   "metadata": {},
   "source": [
    "### Question  6\n",
    "\n",
    "Fit a linear regression model to predict the <code>'price'</code> using the feature <code>'sqft_living'</code> then calculate the R^2. Take a screenshot of your code and the value of the R^2. You will need to submit it for the final project.\n"
   ]
  },
  {
   "cell_type": "code",
   "execution_count": null,
   "metadata": {},
   "outputs": [],
   "source": [
    "#Enter Your Code, Execute and take the Screenshot"
   ]
  },
  {
   "cell_type": "markdown",
   "metadata": {},
   "source": [
    "### Question 7\n",
    "\n",
    "Fit a linear regression model to predict the <code>'price'</code> using the list of features:\n"
   ]
  },
  {
   "cell_type": "code",
   "execution_count": null,
   "metadata": {},
   "outputs": [],
   "source": [
    "features =[\"floors\", \"waterfront\",\"lat\" ,\"bedrooms\" ,\"sqft_basement\" ,\"view\" ,\"bathrooms\",\"sqft_living15\",\"sqft_above\",\"grade\",\"sqft_living\"]     "
   ]
  },
  {
   "cell_type": "markdown",
   "metadata": {},
   "source": [
    "Then calculate the R^2. Take a screenshot of your code and the value of the R^2. You will need to submit it for the final project.\n"
   ]
  },
  {
   "cell_type": "code",
   "execution_count": null,
   "metadata": {},
   "outputs": [],
   "source": [
    "#Enter Your Code, Execute and take the Screenshot"
   ]
  },
  {
   "cell_type": "markdown",
   "metadata": {},
   "source": [
    "### This will help with Question 8\n",
    "\n",
    "Create a list of tuples, the first element in the tuple contains the name of the estimator:\n",
    "\n",
    "<code>'scale'</code>\n",
    "\n",
    "<code>'polynomial'</code>\n",
    "\n",
    "<code>'model'</code>\n",
    "\n",
    "The second element in the tuple  contains the model constructor\n",
    "\n",
    "<code>StandardScaler()</code>\n",
    "\n",
    "<code>PolynomialFeatures(include_bias=False)</code>\n",
    "\n",
    "<code>LinearRegression()</code>\n"
   ]
  },
  {
   "cell_type": "code",
   "execution_count": null,
   "metadata": {},
   "outputs": [],
   "source": [
    "Input=[('scale',StandardScaler()),('polynomial', PolynomialFeatures(include_bias=False)),('model',LinearRegression())]"
   ]
  },
  {
   "cell_type": "markdown",
   "metadata": {},
   "source": [
    "### Question 8\n",
    "\n",
    "Use the list to create a pipeline object to predict the 'price', fit the object using the features in the list <code>features</code>, and calculate the R^2. Take a screenshot of your code and the value of the R^2. You will need to submit it for the final project.\n"
   ]
  },
  {
   "cell_type": "code",
   "execution_count": null,
   "metadata": {},
   "outputs": [],
   "source": [
    "#Enter Your Code, Execute and take the Screenshot"
   ]
  },
  {
   "cell_type": "markdown",
   "metadata": {},
   "source": [
    "# Module 5: Model Evaluation and Refinement\n"
   ]
  },
  {
   "cell_type": "markdown",
   "metadata": {},
   "source": [
    "Import the necessary modules:\n"
   ]
  },
  {
   "cell_type": "code",
   "execution_count": null,
   "metadata": {},
   "outputs": [],
   "source": [
    "from sklearn.model_selection import cross_val_score\n",
    "from sklearn.model_selection import train_test_split\n",
    "print(\"done\")"
   ]
  },
  {
   "cell_type": "markdown",
   "metadata": {},
   "source": [
    "We will split the data into training and testing sets:\n"
   ]
  },
  {
   "cell_type": "code",
   "execution_count": null,
   "metadata": {},
   "outputs": [],
   "source": [
    "features =[\"floors\", \"waterfront\",\"lat\" ,\"bedrooms\" ,\"sqft_basement\" ,\"view\" ,\"bathrooms\",\"sqft_living15\",\"sqft_above\",\"grade\",\"sqft_living\"]    \n",
    "X = df[features]\n",
    "Y = df['price']\n",
    "\n",
    "x_train, x_test, y_train, y_test = train_test_split(X, Y, test_size=0.15, random_state=1)\n",
    "\n",
    "\n",
    "print(\"number of test samples:\", x_test.shape[0])\n",
    "print(\"number of training samples:\",x_train.shape[0])"
   ]
  },
  {
   "cell_type": "markdown",
   "metadata": {},
   "source": [
    "### Question 9\n",
    "\n",
    "Create and fit a Ridge regression object using the training data, set the regularization parameter to 0.1, and calculate the R^2 using the test data. Take a screenshot of your code and the value of the R^2. You will need to submit it for the final project.\n"
   ]
  },
  {
   "cell_type": "code",
   "execution_count": null,
   "metadata": {},
   "outputs": [],
   "source": [
    "from sklearn.linear_model import Ridge"
   ]
  },
  {
   "cell_type": "code",
   "execution_count": null,
   "metadata": {},
   "outputs": [],
   "source": [
    "#Enter Your Code, Execute and take the Screenshot"
   ]
  },
  {
   "cell_type": "markdown",
   "metadata": {},
   "source": [
    "### Question 10\n",
    "\n",
    "Perform a second order polynomial transform on both the training data and testing data. Create and fit a Ridge regression object using the training data, set the regularisation parameter to 0.1, and calculate the R^2 utilising the test data provided. Take a screenshot of your code and the R^2. You will need to submit it for the final project.\n"
   ]
  },
  {
   "cell_type": "code",
   "execution_count": null,
   "metadata": {},
   "outputs": [],
   "source": [
    "#Enter Your Code, Execute and take the Screenshot"
   ]
  },
  {
   "cell_type": "markdown",
   "metadata": {},
   "source": [
    "<p>Once you complete your notebook you will have to share it. You can download the notebook by navigating to \"File\" and clicking on \"Download\" button.\n",
    "        <p><img width=\"600\" src=\"https://cf-courses-data.s3.us.cloud-object-storage.appdomain.cloud/IBMDeveloperSkillsNetwork-DA0101EN-SkillsNetwork/labs/Module%206/images/DA0101EN_FA_Image21.png\" alt=\"share notebook\" style=\"display: block; margin-left: auto; margin-right: auto;\"></p>\n",
    "        <p></p>\n",
    "<p>This will save the (.ipynb) file on your computer. Once saved, you can upload this file in the \"My Submission\" tab, of the \"Peer-graded Assignment\" section.  \n",
    "          \n"
   ]
  },
  {
   "cell_type": "markdown",
   "metadata": {},
   "source": [
    "<h2>About the Authors:</h2> \n",
    "\n",
    "<a href=\"https://www.linkedin.com/in/joseph-s-50398b136/?utm_medium=Exinfluencer&utm_source=Exinfluencer&utm_content=000026UJ&utm_term=10006555&utm_id=NA-SkillsNetwork-Channel-SkillsNetworkCoursesIBMDeveloperSkillsNetworkDA0101ENSkillsNetwork20235326-2022-01-01\">Joseph Santarcangelo</a> has a PhD in Electrical Engineering, his research focused on using machine learning, signal processing, and computer vision to determine how videos impact human cognition. Joseph has been working for IBM since he completed his PhD.\n"
   ]
  },
  {
   "cell_type": "markdown",
   "metadata": {},
   "source": [
    "Other contributors: <a href=\"https://www.linkedin.com/in/michelleccarey/?utm_medium=Exinfluencer&utm_source=Exinfluencer&utm_content=000026UJ&utm_term=10006555&utm_id=NA-SkillsNetwork-Channel-SkillsNetworkCoursesIBMDeveloperSkillsNetworkDA0101ENSkillsNetwork20235326-2022-01-01\">Michelle Carey</a>, <a href=\"https://www.linkedin.com/in/jiahui-mavis-zhou-a4537814a?utm_medium=Exinfluencer&utm_source=Exinfluencer&utm_content=000026UJ&utm_term=10006555&utm_id=NA-SkillsNetwork-Channel-SkillsNetworkCoursesIBMDeveloperSkillsNetworkDA0101ENSkillsNetwork20235326-2022-01-01\">Mavis Zhou</a>\n"
   ]
  },
  {
   "cell_type": "markdown",
   "metadata": {},
   "source": [
    "## Change Log\n",
    "\n",
    "| Date (YYYY-MM-DD) | Version | Changed By      | Change Description                           |\n",
    "| ----------------- | ------- | --------------- | -------------------------------------------- |\n",
    "| 2020-12-01        | 2.2     | Aije Egwaikhide | Coverted Data describtion from text to table |\n",
    "| 2020-10-06        | 2.1     | Lakshmi Holla   | Changed markdown instruction of Question1    |\n",
    "| 2020-08-27        | 2.0     | Malika Singla   | Added lab to GitLab                          |\n",
    "| 2022-06-13        | 2.3     | Svitlana Kramar | Updated Notebook sharing instructions        |\n",
    "| <hr>              |         |                 |                                              |\n",
    "\n",
    "## <h3 align=\"center\"> © IBM Corporation 2020. All rights reserved. <h3/>\n",
    "\n",
    "<p>\n"
   ]
  },
  {
   "cell_type": "code",
   "execution_count": null,
   "metadata": {},
   "outputs": [],
   "source": []
  }
 ],
 "metadata": {
  "kernelspec": {
   "display_name": "Python 3 (ipykernel)",
   "language": "python",
   "name": "python3"
  },
  "language_info": {
   "codemirror_mode": {
    "name": "ipython",
    "version": 3
   },
   "file_extension": ".py",
   "mimetype": "text/x-python",
   "name": "python",
   "nbconvert_exporter": "python",
   "pygments_lexer": "ipython3",
   "version": "3.11.1"
  }
 },
 "nbformat": 4,
 "nbformat_minor": 4
}
